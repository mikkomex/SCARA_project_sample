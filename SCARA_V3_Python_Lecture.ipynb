{
 "cells": [
  {
   "cell_type": "markdown",
   "id": "d21c7070",
   "metadata": {},
   "source": [
    "## SCARA - PRR Variant 3 - 3-DOF"
   ]
  },
  {
   "cell_type": "markdown",
   "id": "ec66bb21",
   "metadata": {},
   "source": [
    "### Imported Libraries"
   ]
  },
  {
   "cell_type": "code",
   "execution_count": 1,
   "id": "6440c155-ba23-43ee-b719-7c74a93ace71",
   "metadata": {},
   "outputs": [],
   "source": [
    "import numpy as np\n",
    "import math"
   ]
  },
  {
   "cell_type": "markdown",
   "id": "531f9f9e",
   "metadata": {},
   "source": [
    "### Forward Kinematics"
   ]
  },
  {
   "cell_type": "code",
   "execution_count": null,
   "id": "c1fa3871-8004-45c4-a4bb-47729891ceb2",
   "metadata": {
    "tags": []
   },
   "outputs": [],
   "source": [
    "# link lengths in cm\n",
    "a1 = float(input(\"a1 = \")) # For testing, 55 mm\n",
    "a2 = float(input(\"a2 = \")) # For testing, 60 mm\n",
    "a3 = float(input(\"a3 = \")) # For testing, 30 mm\n",
    "a4 = float(input(\"a4 = \")) # For testing, 60 mm\n",
    "\n",
    "d1 = float(input(\"d1 = \")) # For testing, 100 mm\n",
    "T2 = float(input(\"T2 = \")) # For testing, 0 degrees\n",
    "T3 = float(input(\"T3 = \")) # For testing, 0 degrees\n",
    "\n",
    "T2 = (T2/180.0)*np.pi # Theta 2 in radians\n",
    "T3 = (T3/180.0)*np.pi # Theta 3 in radians\n",
    "\n",
    "PT = [[(0.0/180.0)*np.pi,(0.0/180.0)*np.pi,0,a1+d1],\n",
    "      [T2,(0.0/180.0)*np.pi,a2,0],\n",
    "      [T3,(0.0/180.0)*np.pi,a4,a3]]\n",
    "\n",
    "i = 0\n",
    "H0_1 = [[np.cos(PT[i][0]),-np.sin(PT[i][0])*np.cos(PT[i][1]),np.sin(PT[i][0])*np.sin(PT[i][1]),PT[i][2]*np.cos(PT[i][0])],\n",
    "        [np.sin(PT[i][0]),np.cos(PT[i][0])*np.cos(PT[i][1]),-np.cos(PT[i][0])*np.sin(PT[i][1]),PT[i][2]*np.sin(PT[i][0])],\n",
    "        [0,np.sin(PT[i][1]),np.cos(PT[i][1]),PT[i][3]],\n",
    "        [0,0,0,1]]\n",
    "\n",
    "i = 1\n",
    "H1_2 = [[np.cos(PT[i][0]),-np.sin(PT[i][0])*np.cos(PT[i][1]),np.sin(PT[i][0])*np.sin(PT[i][1]),PT[i][2]*np.cos(PT[i][0])],\n",
    "        [np.sin(PT[i][0]),np.cos(PT[i][0])*np.cos(PT[i][1]),-np.cos(PT[i][0])*np.sin(PT[i][1]),PT[i][2]*np.sin(PT[i][0])],\n",
    "        [0,np.sin(PT[i][1]),np.cos(PT[i][1]),PT[i][3]],\n",
    "        [0,0,0,1]]\n",
    "\n",
    "i = 2\n",
    "H2_3 = [[np.cos(PT[i][0]),-np.sin(PT[i][0])*np.cos(PT[i][1]),np.sin(PT[i][0])*np.sin(PT[i][1]),PT[i][2]*np.cos(PT[i][0])],\n",
    "        [np.sin(PT[i][0]),np.cos(PT[i][0])*np.cos(PT[i][1]),-np.cos(PT[i][0])*np.sin(PT[i][1]),PT[i][2]*np.sin(PT[i][0])],\n",
    "        [0,np.sin(PT[i][1]),np.cos(PT[i][1]),PT[i][3]],\n",
    "        [0,0,0,1]]\n",
    "\n",
    "\n",
    "H0_1 = np.matrix(H0_1) \n",
    "#print(\"H0_1=\")\n",
    "#print(H0_1)\n",
    "\n",
    "H1_2 = np.matrix(H1_2) \n",
    "#print(\"H1_2=\")\n",
    "#print(H1_2)\n",
    "\n",
    "H2_3 = np.matrix(H2_3)\n",
    "#print(\"H2_3=\")\n",
    "#print(H2_3)\n",
    "\n",
    "H0_2 = np.dot(H0_1,H1_2)\n",
    "H0_3 = np.dot(H0_2,H2_3)\n",
    "print(\"H0_3=\")\n",
    "print(np.matrix(H0_3))\n"
   ]
  },
  {
   "cell_type": "code",
   "execution_count": null,
   "id": "240f2fa4",
   "metadata": {},
   "outputs": [],
   "source": [
    "print(\"H0_2 = \")\n",
    "print(np.matrix(H0_2))"
   ]
  },
  {
   "cell_type": "markdown",
   "id": "c4a64e3e",
   "metadata": {},
   "source": [
    "### Position Vectors"
   ]
  },
  {
   "cell_type": "code",
   "execution_count": 81,
   "id": "88916b20-5956-4606-8b76-2c81629f1971",
   "metadata": {
    "collapsed": true,
    "jupyter": {
     "outputs_hidden": true
    },
    "tags": []
   },
   "outputs": [
    {
     "name": "stdout",
     "output_type": "stream",
     "text": [
      "X =  101.11064688440584\n",
      "Y =  4.414586181062756\n",
      "Z =  135.0\n"
     ]
    }
   ],
   "source": [
    "X0_3 = H0_3[0,3]\n",
    "print(\"X = \", X0_3)\n",
    "Y0_3 =H0_3[1,3]\n",
    "print(\"Y = \", Y0_3)\n",
    "Z0_3 =H0_3[2,3]\n",
    "print(\"Z = \", Z0_3)"
   ]
  },
  {
   "cell_type": "markdown",
   "id": "6dfd0e56",
   "metadata": {},
   "source": [
    "### Jacobian Matrix"
   ]
  },
  {
   "cell_type": "markdown",
   "id": "a1298782",
   "metadata": {},
   "source": [
    "### 1. Linear / Prismatic Vectors"
   ]
  },
  {
   "cell_type": "code",
   "execution_count": 82,
   "id": "e7bc3151",
   "metadata": {
    "collapsed": true,
    "jupyter": {
     "outputs_hidden": true
    },
    "tags": []
   },
   "outputs": [
    {
     "name": "stdout",
     "output_type": "stream",
     "text": [
      "J1 = \n",
      "[[0]\n",
      " [0]\n",
      " [1]]\n"
     ]
    }
   ],
   "source": [
    "Z_1 = [[0],[0],[1]] # The [0,0,1] vector\n",
    "\n",
    "# Row 1 - 3, Column 1\n",
    "\n",
    "J1 = [[1,0,0],[0,1,0],[0,0,1]]\n",
    "J1 = np.dot(J1,Z_1)\n",
    "J1 = np.matrix(J1)\n",
    "print('J1 = ')\n",
    "print(np.matrix(J1))"
   ]
  },
  {
   "cell_type": "code",
   "execution_count": 83,
   "id": "8fa59f9a",
   "metadata": {
    "collapsed": true,
    "jupyter": {
     "outputs_hidden": true
    },
    "tags": []
   },
   "outputs": [
    {
     "name": "stdout",
     "output_type": "stream",
     "text": [
      "J2 = \n",
      "[[ -4.41458618]\n",
      " [101.11064688]\n",
      " [  0.        ]]\n"
     ]
    }
   ],
   "source": [
    "# Row 1 - 3, Column 2\n",
    "\n",
    "J2a = H0_1[0:3,0:3]\n",
    "J2a = np.dot(J2a,Z_1)\n",
    "#print(\"J2a = \")\n",
    "#print(J2a)\n",
    "\n",
    "J2b_1 = H0_3[0:3,3:]\n",
    "J2b_1 = np.matrix(J2b_1)\n",
    "# print(J2b_1)\n",
    "\n",
    "J2b_2 = H0_1[0:3,3:]\n",
    "J2b_2 = np.matrix(J2b_2)\n",
    "# print(J2b_2)\n",
    "\n",
    "J2b = J2b_1 - J2b_2\n",
    "#print(\"J2b = \")\n",
    "#print(J2b)\n",
    "\n",
    "J2 = [[(J2a[1,0]*J2b[2,0])-(J2a[2,0]*J2b[1,0])],\n",
    "     [(J2a[2,0]*J2b[0,0])-(J2a[0,0]*J2b[2,0])],\n",
    "     [(J2a[0,0]*J2b[1,0])-(J2a[1,0]*J2b[0,0])]]\n",
    "print(\"J2 = \")\n",
    "print(np.matrix(J2))\n"
   ]
  },
  {
   "cell_type": "code",
   "execution_count": 84,
   "id": "30ed6f90",
   "metadata": {
    "collapsed": true,
    "jupyter": {
     "outputs_hidden": true
    },
    "tags": []
   },
   "outputs": [
    {
     "name": "stdout",
     "output_type": "stream",
     "text": [
      "J3 = \n",
      "[[30.        ]\n",
      " [51.96152423]\n",
      " [-0.        ]]\n"
     ]
    }
   ],
   "source": [
    "# Row 1 - 3, Column 3\n",
    "\n",
    "J3a = H0_2[0:3,0:3]\n",
    "J3a = np.dot(J3a,Z_1)\n",
    "#print(\"J3a = \")\n",
    "#print(J3a)\n",
    "\n",
    "J3b_1 = H0_3[0:3,3:]\n",
    "J3b_1 = np.matrix(J3b_1)\n",
    "\n",
    "J3b_2 = H0_2[0:3,3:]\n",
    "J3b_2 = np.matrix(J3b_2)\n",
    "\n",
    "J3b = J3b_1 - J3b_2\n",
    "#print('J3b = ')\n",
    "#print(J3b)\n",
    "\n",
    "J3 = [[(J3a[1,0]*J3b[2,0])-(J3a[2,0]*J3b[1,0])],\n",
    "     [(J3a[2,0]*J3b[0,0])-(J3a[0,0]*J3b[2,0])],\n",
    "     [(J3a[0,0]*J3b[1,0])-(J3a[1,0]*J3b[0,0])]]\n",
    "print(\"J3 = \")\n",
    "print(np.matrix(J3))\n"
   ]
  },
  {
   "cell_type": "markdown",
   "id": "debecfd9",
   "metadata": {},
   "source": [
    "### 2. Rotation / Orientation Vectors"
   ]
  },
  {
   "cell_type": "code",
   "execution_count": 85,
   "id": "da78893f",
   "metadata": {
    "collapsed": true,
    "jupyter": {
     "outputs_hidden": true
    },
    "tags": []
   },
   "outputs": [
    {
     "name": "stdout",
     "output_type": "stream",
     "text": [
      "J4 = \n",
      "[[0]\n",
      " [0]\n",
      " [0]]\n",
      "J5 = \n",
      "[[0.]\n",
      " [0.]\n",
      " [1.]]\n",
      "J6 = \n",
      "[[0.]\n",
      " [0.]\n",
      " [1.]]\n"
     ]
    }
   ],
   "source": [
    "J4 = [[0],[0],[0]]\n",
    "J4 = np.matrix(J4)\n",
    "print(\"J4 = \")\n",
    "print(J4)\n",
    "\n",
    "J5 = H0_1[0:3,0:3]\n",
    "J5 = np.dot(J5,Z_1)\n",
    "J5 = np.matrix(J5)\n",
    "print(\"J5 = \")\n",
    "print(J5)\n",
    "\n",
    "J6 = H0_1[0:3,0:3]\n",
    "J6 = np.dot(J6,Z_1)\n",
    "J6 = np.matrix(J6)\n",
    "print(\"J6 = \")\n",
    "print(J6)"
   ]
  },
  {
   "cell_type": "markdown",
   "id": "eb5c21b8",
   "metadata": {},
   "source": [
    "### 3. Concatenated Jacobian Matrix"
   ]
  },
  {
   "cell_type": "code",
   "execution_count": 86,
   "id": "934d7d51",
   "metadata": {
    "collapsed": true,
    "jupyter": {
     "outputs_hidden": true
    },
    "tags": []
   },
   "outputs": [
    {
     "name": "stdout",
     "output_type": "stream",
     "text": [
      "J = \n",
      "[[  0.          -4.41458618  30.        ]\n",
      " [  0.         101.11064688  51.96152423]\n",
      " [  1.           0.          -0.        ]\n",
      " [  0.           0.           0.        ]\n",
      " [  0.           0.           0.        ]\n",
      " [  0.           1.           1.        ]]\n"
     ]
    }
   ],
   "source": [
    "JM1 = np.concatenate((J1,J2,J3),1)\n",
    "# print(JM1)\n",
    "JM2 =np.concatenate((J4,J5,J6),1)\n",
    "# print(JM2)\n",
    "\n",
    "J = np.concatenate((JM1,JM2),0)\n",
    "print(\"J = \")\n",
    "print(J)"
   ]
  },
  {
   "cell_type": "markdown",
   "id": "baffe048",
   "metadata": {},
   "source": [
    "### Singularities"
   ]
  },
  {
   "cell_type": "code",
   "execution_count": 87,
   "id": "c1958b84",
   "metadata": {
    "collapsed": true,
    "jupyter": {
     "outputs_hidden": true
    },
    "tags": []
   },
   "outputs": [
    {
     "name": "stdout",
     "output_type": "stream",
     "text": [
      "DJ =  -3262.708033331942\n"
     ]
    }
   ],
   "source": [
    "# singularity = Det(J)\n",
    "# np.linalg.det(M)\n",
    "# Let JM1 become the 3x3 position matrix for obtaining the Determinant\n",
    "\n",
    "DJ = np.linalg.det(JM1)\n",
    "print(\"DJ = \",DJ)\n",
    "\n"
   ]
  },
  {
   "cell_type": "markdown",
   "id": "4923bb36",
   "metadata": {},
   "source": [
    "### Inverse Velocity"
   ]
  },
  {
   "cell_type": "code",
   "execution_count": 88,
   "id": "f316fcbc",
   "metadata": {
    "collapsed": true,
    "jupyter": {
     "outputs_hidden": true
    },
    "tags": []
   },
   "outputs": [
    {
     "name": "stdout",
     "output_type": "stream",
     "text": [
      "IV = \n",
      "[[ 0.          0.          1.        ]\n",
      " [-0.01592589  0.00919482  0.        ]\n",
      " [ 0.03098979  0.00135304  0.        ]]\n"
     ]
    }
   ],
   "source": [
    "# Inv(J)\n",
    "\n",
    "IV = np.linalg.inv(JM1)\n",
    "print(\"IV = \")\n",
    "print(IV)"
   ]
  },
  {
   "cell_type": "markdown",
   "id": "0657d4aa",
   "metadata": {},
   "source": [
    "### Torque-Force Analysis"
   ]
  },
  {
   "cell_type": "code",
   "execution_count": 90,
   "id": "d1836cee",
   "metadata": {
    "collapsed": true,
    "jupyter": {
     "outputs_hidden": true
    },
    "tags": []
   },
   "outputs": [
    {
     "name": "stdout",
     "output_type": "stream",
     "text": [
      "TJ = \n",
      "[[  0.           0.           1.        ]\n",
      " [ -4.41458618 101.11064688   0.        ]\n",
      " [ 30.          51.96152423  -0.        ]]\n"
     ]
    }
   ],
   "source": [
    "# Transpose of Jacobian Matrix\n",
    "\n",
    "TJ = np.transpose(JM1)\n",
    "print(\"TJ = \")\n",
    "print(TJ)"
   ]
  },
  {
   "cell_type": "markdown",
   "id": "988b261c",
   "metadata": {},
   "source": [
    "### Inverse Kinematics"
   ]
  },
  {
   "cell_type": "code",
   "execution_count": null,
   "id": "d9f1fe4c-84a9-4e82-879a-24476c49b4ed",
   "metadata": {},
   "outputs": [],
   "source": [
    "phi2 = (np.arctan(Y0_3/X0_3))\n",
    "r1 = math.sqrt((X0_3**2)+(Y0_3**2))\n",
    "phi1 = np.arccos((a4**2-r1**2-a2**2)/(-2.0*r1*a2))\n",
    "Th2 = ((phi2-phi1)*180.0/np.pi)\n",
    "phi3 = (np.arccos((r1**2-a2**2-a4**2)/(-2.0*a2*a4)))\n",
    "Th3 = 180 - phi3*(180.0/np.pi)\n",
    "d1 = Z0_3 - a1 - a3\n",
    "\n",
    "print(\"d1=\")\n",
    "print(d1)\n",
    "\n",
    "print(\"Th2=\")\n",
    "print(Th2)\n",
    "\n",
    "print(\"Th3\")\n",
    "print(Th3)"
   ]
  },
  {
   "cell_type": "code",
   "execution_count": null,
   "id": "fce8d487",
   "metadata": {},
   "outputs": [],
   "source": []
  }
 ],
 "metadata": {
  "kernelspec": {
   "display_name": "Python 3 (ipykernel)",
   "language": "python",
   "name": "python3"
  },
  "language_info": {
   "codemirror_mode": {
    "name": "ipython",
    "version": 3
   },
   "file_extension": ".py",
   "mimetype": "text/x-python",
   "name": "python",
   "nbconvert_exporter": "python",
   "pygments_lexer": "ipython3",
   "version": "3.9.7"
  }
 },
 "nbformat": 4,
 "nbformat_minor": 5
}
